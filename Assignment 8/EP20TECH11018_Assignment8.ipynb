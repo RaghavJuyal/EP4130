{
 "cells": [
  {
   "attachments": {},
   "cell_type": "markdown",
   "metadata": {},
   "source": [
    "# Assignment 8\n",
    "Raghav Juyal \\\n",
    "EP20BTECH11018"
   ]
  },
  {
   "attachments": {},
   "cell_type": "markdown",
   "metadata": {},
   "source": [
    "# Imports"
   ]
  },
  {
   "cell_type": "code",
   "execution_count": 1,
   "metadata": {},
   "outputs": [],
   "source": [
    "import numpy as np\n",
    "import matplotlib.pyplot as plt\n",
    "from astroML.correlation import bootstrap_two_point_angular"
   ]
  },
  {
   "attachments": {},
   "cell_type": "markdown",
   "metadata": {},
   "source": [
    "# Question 1\n",
    "Calculate the angular two-point correlation function of galaxies (including errors obtained by 10 bootstrap resamples) \\\n",
    "using subset of data from the Blanco Cosmology Survey with r-band magnitude between 17 and 20, and using 16 logarithmic-spaced \\\n",
    "angular bins from 1/60◦ to 1◦. Use a linear scale for Y-axis. Galaxies in Blanco Cosmology Survey have spread model > 0.002. \\\n",
    "This data can be downloaded from http://www.iith.ac.in/~shantanud/BCS05hr_reduced.txt"
   ]
  },
  {
   "cell_type": "code",
   "execution_count": 2,
   "metadata": {},
   "outputs": [
    {
     "data": {
      "image/png": "[encoded data removed]",
      "text/plain": [
       "<Figure size 720x504 with 1 Axes>"
      ]
     },
     "metadata": {
      "needs_background": "light"
     },
     "output_type": "display_data"
    }
   ],
   "source": [
    "# extracting input data from website\n",
    "data = np.loadtxt('https://www.iith.ac.in/~shantanud/BCS05hr_reduced.txt')\n",
    "\n",
    "# filtering the data according to parameters\n",
    "data = data[data[:,2] < 20]\n",
    "data = data[data[:,2] > 17]\n",
    "data = data[data[:,3] > 0.002]\n",
    "\n",
    "# function for finding angular two-point correlation\n",
    "def two_point_correlation(N):\n",
    "    LINS = np.linspace(np.log10(1.0/60.0), np.log10(6), 16)\n",
    "    bins = 10 ** LINS\n",
    "    results = [bins]\n",
    "    for d in [data]:\n",
    "        results += bootstrap_two_point_angular(d[:,0], d[:,1], bins=bins, method='landy-szalay', Nbootstraps=N)\n",
    "    return results\n",
    "\n",
    "# applying function according to the question asked\n",
    "(bins, b_corr, b_corr_err, b_bootstraps) = two_point_correlation(10)\n",
    "# finding bin centers\n",
    "bin_centers = 0.5 * (bins[1:] + bins[:-1])\n",
    "\n",
    "# plotting the values from angular two-point correlation\n",
    "plt.figure(figsize=(10,7))\n",
    "plt.xscale('log')\n",
    "plt.yscale('linear')\n",
    "plt.errorbar(bin_centers, b_corr, b_corr_err, fmt='.k', ecolor='red', lw=1)\n",
    "plt.xlabel(r'$\\theta$', size = 13)\n",
    "plt.ylabel(r'$w(\\theta)$', size = 13)\n",
    "plt.title('Angular Two-Point Correlation', size = 15)\n",
    "plt.grid()\n",
    "plt.show()"
   ]
  }
 ],
 "metadata": {
  "kernelspec": {
   "display_name": "base",
   "language": "python",
   "name": "python3"
  },
  "language_info": {
   "codemirror_mode": {
    "name": "ipython",
    "version": 3
   },
   "file_extension": ".py",
   "mimetype": "text/x-python",
   "name": "python",
   "nbconvert_exporter": "python",
   "pygments_lexer": "ipython3",
   "version": "3.9.12"
  },
  "orig_nbformat": 4
 },
 "nbformat": 4,
 "nbformat_minor": 2
}
