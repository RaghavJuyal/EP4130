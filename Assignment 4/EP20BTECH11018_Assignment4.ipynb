{
 "cells": [
  {
   "attachments": {},
   "cell_type": "markdown",
   "metadata": {},
   "source": [
    "# Assignment 4\n",
    "Raghav Juyal \\\n",
    "EP20BTECH11018"
   ]
  },
  {
   "attachments": {},
   "cell_type": "markdown",
   "metadata": {},
   "source": [
    "# Imports"
   ]
  },
  {
   "cell_type": "code",
   "execution_count": 1,
   "metadata": {},
   "outputs": [],
   "source": [
    "import numpy as np\n",
    "import matplotlib.pyplot as plt\n",
    "import scipy.stats as st\n",
    "from scipy.optimize import curve_fit\n",
    "from scipy import optimize as opt\n",
    "from statsmodels.tools import eval_measures as em"
   ]
  },
  {
   "attachments": {},
   "cell_type": "markdown",
   "metadata": {},
   "source": [
    "# Question 1\n",
    "Download the data corresponding to x, y, and σy from http://www.iith.ac.in/~shantanud/testdata.dat. \\\n",
    "Find the best-fit values after fitting the data to linear, quadratic, and cubic polynomials. Find out \\\n",
    "which model fits the data best from frequentist model comparison as well as using AIC and BIC. For \\\n",
    "frequentist model comparison, using the linear model as the null hypothesis, find out the p value \\\n",
    "corresponding to the preferred model. (or if the linear model is the prefered model, then compare it to \\\n",
    "the quadratic model). Also show a plot overlaying the data with best fit solutions from linear, quadratic \\\n",
    "and cubic functions with different line styles for each of the fits."
   ]
  },
  {
   "cell_type": "code",
   "execution_count": 3,
   "metadata": {},
   "outputs": [
    {
     "name": "stdout",
     "output_type": "stream",
     "text": [
      "Linear fit values:  [ 2.79789861 -1.11028082]\n",
      "Quadratic fit values:  [ 0.50261293  2.38475187 -1.05578915]\n",
      "Cubic fit values:  [-0.96724992  1.74451332  1.97184055 -1.02910462]\n"
     ]
    }
   ],
   "source": [
    "testdata = np.loadtxt('testdata.dat')\n",
    "\n",
    "def linear(x, a, b):\n",
    "    return a*x + b\n",
    "\n",
    "def quadratic(x, a, b, c):\n",
    "    return a*x**2 + b*x + c\n",
    "\n",
    "def cubic(x, a, b, c, d):\n",
    "    return a*x**3 + b*x**2 + c*x + d\n",
    "\n",
    "\n",
    "linearfit_param = curve_fit(linear, xdata = testdata[:,0], ydata = testdata[:,1], sigma=testdata[:,2])\n",
    "quadraticfit_param = curve_fit(quadratic, testdata[:,0], testdata[:,1], sigma=testdata[:,2])\n",
    "cubicfit_param = curve_fit(cubic, testdata[:,0], testdata[:,1], sigma=testdata[:,2])\n",
    "\n",
    "print('Linear fit values: ', linearfit_param[0])\n",
    "print('Quadratic fit values: ', quadraticfit_param[0])\n",
    "print('Cubic fit values: ', cubicfit_param[0])"
   ]
  },
  {
   "attachments": {},
   "cell_type": "markdown",
   "metadata": {},
   "source": [
    "Frequentist Comparision"
   ]
  },
  {
   "cell_type": "code",
   "execution_count": 4,
   "metadata": {},
   "outputs": [
    {
     "name": "stdout",
     "output_type": "stream",
     "text": [
      "p-value for quadratic fit:  0.17813275695316744\n",
      "p-value for cubic fit:  0.32887884419522884\n"
     ]
    }
   ],
   "source": [
    "chi2_linear = np.sum(((testdata[:,1] - linear(testdata[:,0], *linearfit_param[0]))/testdata[:,2])**2)\n",
    "chi2_quadratic = np.sum(((testdata[:,1] - quadratic(testdata[:,0], *quadraticfit_param[0]))/testdata[:,2])**2)\n",
    "chi2_cubic = np.sum(((testdata[:,1] - cubic(testdata[:,0], *cubicfit_param[0]))/testdata[:,2])**2)\n",
    "\n",
    "\n",
    "def chi2_gof(x, y, yerr, fit_func, *fit_func_args):\n",
    "    return np.sum(((y - fit_func(x, *fit_func_args))/yerr)**2)\n",
    "\n",
    "\n",
    "#Linear fit is considered NULL hypothesis\n",
    "delta_chi2_quadratic = chi2_linear - chi2_quadratic\n",
    "delta_chi2_cubic = chi2_linear - chi2_cubic\n",
    "\n",
    "p_quadratic = 1 - st.chi2.cdf(delta_chi2_quadratic, 1)\n",
    "p_cubic = 1 - st.chi2.cdf(delta_chi2_cubic, 2)\n",
    "\n",
    "print('p-value for quadratic fit: ', p_quadratic)\n",
    "print('p-value for cubic fit: ', p_cubic)"
   ]
  },
  {
   "attachments": {},
   "cell_type": "markdown",
   "metadata": {},
   "source": [
    "Since the p-value of quadratic fit is less than that of cubic fit, cubic fit may be a better fit."
   ]
  },
  {
   "attachments": {},
   "cell_type": "markdown",
   "metadata": {},
   "source": [
    "Maximum Likelihood Estimation"
   ]
  },
  {
   "cell_type": "code",
   "execution_count": 5,
   "metadata": {},
   "outputs": [
    {
     "name": "stdout",
     "output_type": "stream",
     "text": [
      "For linear fit\n",
      "AIC:  15.309175575502223\n",
      "BIC:  17.300640122610204\n",
      "\n",
      "For quadratic fit\n",
      "AIC:  15.496041767569295\n",
      "BIC:  18.483238588231266\n",
      "\n",
      "For cubic fit\n",
      "AIC:  17.085043873972353\n",
      "BIC:  21.067972968188315\n",
      "\n",
      "Linear fit is considered as NULL hypothesis\n",
      "\n",
      "For quadratic fit\n",
      "Delta AIC:  0.18686619206707178\n",
      "Delta BIC:  1.1825984656210622\n",
      "\n",
      "For cubic fit\n",
      "Delta AIC:  1.7758682984701295\n",
      "Delta BIC:  3.7673328455781103\n"
     ]
    }
   ],
   "source": [
    "def likelihood_estimator(func, data, *args):\n",
    "    return np.product(np.exp(-0.5 * (((data[:,1] - func(data[:,0], *args))/data[:,2]) ** 2) ))\n",
    "\n",
    "def max_likelihood(func, data, args):\n",
    "    return opt.minimize(lambda x: -likelihood_estimator(func, data, *x), args, method='Nelder-Mead').x\n",
    "\n",
    "\n",
    "maxlkl = [likelihood_estimator(linear,testdata, *max_likelihood(linear, testdata, linearfit_param[0])),\n",
    "likelihood_estimator(quadratic, testdata, *max_likelihood(quadratic, testdata, quadraticfit_param[0])),\n",
    "likelihood_estimator(cubic, testdata, *max_likelihood(cubic, testdata, cubicfit_param[0]))]\n",
    "\n",
    "#Calculate AIC and BIC\n",
    "bic = -2 * np.log(maxlkl) + np.log(len(testdata)) * np.array([2, 3, 4])\n",
    "\n",
    "aic = -2 * np.log(maxlkl) + 2 * np.array([2, 3, 4])\n",
    "\n",
    "aic_c = aic + 2 * np.array([2, 3, 4]) * np.array([3, 4, 5]) / (len(testdata) - np.array([2, 3, 4]) - 1)\n",
    "\n",
    "#Linear fit is considered as NULL hypothesis\n",
    "delta_aic = aic - aic[0]\n",
    "\n",
    "delta_bic = bic - bic[0]\n",
    "\n",
    "print(\"For linear fit\")\n",
    "print('AIC: ', aic[0])\n",
    "print('BIC: ', bic[0])\n",
    "print()\n",
    "print(\"For quadratic fit\")\n",
    "print('AIC: ', aic[1])\n",
    "print('BIC: ', bic[1])\n",
    "print()\n",
    "print(\"For cubic fit\")\n",
    "print('AIC: ', aic[2])\n",
    "print('BIC: ', bic[2])\n",
    "\n",
    "\n",
    "print('\\nLinear fit is considered as NULL hypothesis\\n')\n",
    "print(\"For quadratic fit\")\n",
    "print('Delta AIC: ', delta_aic[1])\n",
    "print('Delta BIC: ', delta_bic[1])\n",
    "print()\n",
    "print(\"For cubic fit\")\n",
    "print('Delta AIC: ', delta_aic[2])\n",
    "print('Delta BIC: ', delta_bic[2])"
   ]
  },
  {
   "attachments": {},
   "cell_type": "markdown",
   "metadata": {},
   "source": [
    "delta AIC is in range 0-2 for quadratic and cubic fit so supports both models \\\n",
    "delta BIC is < 2 for quadratic and > 2 for cubic(positive evidence against cubic)\\\n",
    "Therefore, quadratic model is preferred "
   ]
  },
  {
   "cell_type": "code",
   "execution_count": 7,
   "metadata": {},
   "outputs": [
    {
     "data": {
      "image/png": "[encoded data removed]",
      "text/plain": [
       "<Figure size 720x1152 with 1 Axes>"
      ]
     },
     "metadata": {
      "needs_background": "light"
     },
     "output_type": "display_data"
    }
   ],
   "source": [
    "#Plotting the data and the fits\n",
    "\n",
    "trange = np.linspace(0, 1, 1000)\n",
    "plt.figure(figsize=(10,16))\n",
    "plt.scatter(testdata[:,0], testdata[:,1], label='data', c='r')\n",
    "plt.errorbar(testdata[:,0], testdata[:,1], yerr=testdata[:,2], fmt='none', label='y_err', c='r')\n",
    "plt.plot(trange, linear(trange, *linearfit_param[0]), label='linear fit', ls = '--')\n",
    "plt.plot(trange, quadratic(trange, *quadraticfit_param[0]), label='quadratic fit', ls = '-.')\n",
    "plt.plot(trange, cubic(trange, *cubicfit_param[0]), label='cubic fit')\n",
    "plt.legend()\n",
    "plt.show()"
   ]
  },
  {
   "attachments": {},
   "cell_type": "markdown",
   "metadata": {},
   "source": [
    "# Question 2\n",
    "For the model comparison problem shown in class on JVDP’s blog, calculate AIC \\\n",
    "and BIC for the linear and quadratic models. Do these results agree with the \\\n",
    "frequentist model comparison results shown on the blog? Also mention the \\\n",
    "qualitative significance using strengt of evidence rules."
   ]
  },
  {
   "cell_type": "code",
   "execution_count": 8,
   "metadata": {},
   "outputs": [],
   "source": [
    "data = np.array([[ 0.42,  0.72,  1e-7  ,  0.3 ,  0.15,\n",
    "                   0.09,  0.19,  0.35,  0.4 ,  0.54,\n",
    "                   0.42,  0.69,  0.2 ,  0.88,  0.03,\n",
    "                   0.67,  0.42,  0.56,  0.14,  0.2  ],\n",
    "                 [ 0.33,  0.41, -0.22,  0.01, -0.05,\n",
    "                  -0.05, -0.12,  0.26,  0.29,  0.39, \n",
    "                   0.31,  0.42, -0.01,  0.58, -0.2 ,\n",
    "                   0.52,  0.15,  0.32, -0.13, -0.09 ],\n",
    "                 [ 0.1 ,  0.1 ,  0.1 ,  0.1 ,  0.1 ,\n",
    "                   0.1 ,  0.1 ,  0.1 ,  0.1 ,  0.1 ,\n",
    "                   0.1 ,  0.1 ,  0.1 ,  0.1 ,  0.1 ,\n",
    "                   0.1 ,  0.1 ,  0.1 ,  0.1 ,  0.1  ]])\n",
    "\n",
    "x, y, sigma_y = data\n",
    "linearfit_param = curve_fit(linear, xdata = x, ydata = y, sigma=sigma_y)\n",
    "quadraticfit_param = curve_fit(quadratic, xdata = x, ydata = y, sigma=sigma_y)\n",
    "\n",
    "\n",
    "maxlkl = [likelihood_estimator(linear, data.transpose(), *max_likelihood(linear, data.transpose(), linearfit_param[0])),\n",
    "likelihood_estimator(quadratic, data.transpose(), *max_likelihood(quadratic, data.transpose(), quadraticfit_param[0]))]"
   ]
  },
  {
   "cell_type": "code",
   "execution_count": 9,
   "metadata": {},
   "outputs": [
    {
     "name": "stdout",
     "output_type": "stream",
     "text": [
      "For linear fit\n",
      "AIC:  15.324128704090546\n",
      "BIC:  17.31559325119853\n",
      "\n",
      "For quadratic fit\n",
      "AIC:  15.46283414153923\n",
      "BIC:  18.450030962201204\n",
      "\n"
     ]
    }
   ],
   "source": [
    "bic = -2 * np.log(maxlkl) + np.log(len(x)) * np.array([2, 3])\n",
    "\n",
    "aic = -2 * np.log(maxlkl) + 2 * np.array([2, 3])\n",
    "\n",
    "aic_c = aic + 2 * np.array([2, 3]) * np.array([3, 4]) / (len(testdata) - np.array([2, 3]) - 1)\n",
    "\n",
    "#Linear fit is considered as NULL hypothesis\n",
    "delta_aic = aic - aic[0]\n",
    "\n",
    "delta_bic = bic - bic[0]\n",
    "print(\"For linear fit\")\n",
    "print('AIC: ', aic[0])\n",
    "print('BIC: ', bic[0])\n",
    "print()\n",
    "print(\"For quadratic fit\")\n",
    "print('AIC: ', aic[1])\n",
    "print('BIC: ', bic[1])\n",
    "print()"
   ]
  },
  {
   "attachments": {},
   "cell_type": "markdown",
   "metadata": {},
   "source": [
    "Taking the linear fit as null hypothesis we see that there is negligible difference in \\\n",
    "the AIC of both models and the BIC of linear fit is slightly lesser that that of quadratic fit. \\\n",
    "This implies there is only slight evidence against the quadratic model which is in agreement with \\\n",
    "the results shown in the blog."
   ]
  },
  {
   "attachments": {},
   "cell_type": "markdown",
   "metadata": {},
   "source": [
    "# Question 3\n",
    "Find out one paper in research literature which uses the Kolmogorov-Smirnov test \\\n",
    "and explain briefly how it was used in that paper. Is K-S test used incorrectly \\\n",
    "(in this paper) as per the warnings on the Penn State website discussed in class?"
   ]
  },
  {
   "attachments": {},
   "cell_type": "markdown",
   "metadata": {},
   "source": [
    "PAPER: EWF : simulating exact paths of the Wright--Fisher diffusion(https://arxiv.org/abs/2301.05459)\n",
    "\n",
    "Here the output was validated by generating 10,000 samples for a wide variety of cases and subsequently \\\n",
    "comparing this to a truncation of the transition density by means of Kolmogorov–Smirnov test \\\n",
    "as well as QQ-plots. They point out that they present only neutral output here as the non-neutral \\\n",
    "output is generated using the same rejection procedure as used in Jenkins and Span`o.\n"
   ]
  },
  {
   "attachments": {},
   "cell_type": "markdown",
   "metadata": {},
   "source": [
    "# Question 4\n",
    "Calculate the significance in terms of no of sigmas of the Higgs boson discovery claim \\\n",
    "from the p value given in the abstract of the ATLAS discovery paper, arXiv:1207.7214.\n",
    "\n",
    "Do the same for the LIGO discovery of GW150914, for which the pvalue = 2 × 10−7. (Hint : look up norm.isf)\n",
    "\n",
    "From the Super-K discovery paper for neutrino oscillations (hep-ex/9807003), calculate the $\\chi^2$ GOF using the best-fit \\\n",
    "$\\nu_{\\mu} \\leftrightarrow \\nu_{\\tau}$ oscillation solution. (Hint : check page 4 of the paper, second column,last paragraph)"
   ]
  },
  {
   "cell_type": "code",
   "execution_count": 10,
   "metadata": {},
   "outputs": [
    {
     "name": "stdout",
     "output_type": "stream",
     "text": [
      "Significance of Higgs Boson discovery claim with p value of 1.7e-9 is: 5.911017938341624\n",
      "Significance of LIGO discovery of GW150914 with p value of 2e-7 is := 5.068957749717791\n",
      "chi2 GOF of Super-K discovery of neutrino oscillations = 0.5394901931099036\n"
     ]
    }
   ],
   "source": [
    "print(f'Significance of Higgs Boson discovery claim with p value of 1.7e-9 is: {st.norm.isf(1.7e-9)}')\n",
    "print(f'Significance of LIGO discovery of GW150914 with p value of 2e-7 is := {st.norm.isf(2e-7)}')\n",
    "print(f'chi2 GOF of Super-K discovery of neutrino oscillations = {st.chi2(67).sf(65.2)}')"
   ]
  }
 ],
 "metadata": {
  "kernelspec": {
   "display_name": "base",
   "language": "python",
   "name": "python3"
  },
  "language_info": {
   "codemirror_mode": {
    "name": "ipython",
    "version": 3
   },
   "file_extension": ".py",
   "mimetype": "text/x-python",
   "name": "python",
   "nbconvert_exporter": "python",
   "pygments_lexer": "ipython3",
   "version": "3.9.12"
  },
  "orig_nbformat": 4,
  "vscode": {
   "interpreter": {
    "hash": "2043299c89c8cd0b4d1a6f5cf4529bd58e6a4e0fe3181a25e0d328c821cdc5c5"
   }
  }
 },
 "nbformat": 4,
 "nbformat_minor": 2
}
